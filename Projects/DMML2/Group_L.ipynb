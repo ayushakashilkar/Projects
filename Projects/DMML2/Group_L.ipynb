{
 "cells": [
  {
   "cell_type": "markdown",
   "id": "4e02ac87",
   "metadata": {},
   "source": [
    "# Importing the libraries"
   ]
  },
  {
   "cell_type": "code",
   "execution_count": 1,
   "id": "34f452b5",
   "metadata": {},
   "outputs": [],
   "source": [
    "import tensorflow as tf\n",
    "from keras.preprocessing.image import ImageDataGenerator\n",
    "from tensorflow.keras.models import Model\n",
    "from tensorflow import keras"
   ]
  },
  {
   "cell_type": "code",
   "execution_count": 2,
   "id": "0bc111c6",
   "metadata": {},
   "outputs": [
    {
     "data": {
      "text/plain": [
       "'2.9.1'"
      ]
     },
     "execution_count": 2,
     "metadata": {},
     "output_type": "execute_result"
    }
   ],
   "source": [
    "tf.__version__"
   ]
  },
  {
   "cell_type": "code",
   "execution_count": 3,
   "id": "3fdcfe35",
   "metadata": {},
   "outputs": [],
   "source": [
    "import os\n",
    "import pandas as pd\n",
    "import numpy as np\n",
    "from sklearn.model_selection import train_test_split\n",
    "import shutil\n",
    "import matplotlib.pyplot as plt\n",
    "from keras.optimizers import SGD\n",
    "import seaborn as sns\n",
    "import matplotlib.pyplot as plt\n",
    "%matplotlib inline "
   ]
  },
  {
   "cell_type": "markdown",
   "id": "db861486",
   "metadata": {},
   "source": [
    "### Data Preparation"
   ]
  },
  {
   "cell_type": "markdown",
   "id": "557431b3",
   "metadata": {},
   "source": [
    "#### Create the directory structure"
   ]
  },
  {
   "cell_type": "code",
   "execution_count": 4,
   "id": "137a199b",
   "metadata": {},
   "outputs": [],
   "source": [
    "# base_directory\n",
    "base_directory = 'base_directory'\n",
    "os.mkdir(base_directory)\n"
   ]
  },
  {
   "cell_type": "code",
   "execution_count": 5,
   "id": "9e7495a2",
   "metadata": {},
   "outputs": [],
   "source": [
    "# train_directory\n",
    "train_directory = os.path.join(base_directory, 'train_directory')\n",
    "os.mkdir(train_directory)"
   ]
  },
  {
   "cell_type": "code",
   "execution_count": 6,
   "id": "7b5476ee",
   "metadata": {},
   "outputs": [],
   "source": [
    "# val_directory\n",
    "validation_directory = os.path.join(base_directory, 'validation_directory')\n",
    "os.mkdir(validation_directory)"
   ]
  },
  {
   "cell_type": "code",
   "execution_count": null,
   "id": "edd62b5a",
   "metadata": {},
   "outputs": [],
   "source": [
    "# create folders inside train_directory\n",
    "\n",
    "nv = os.path.join(train_directory, 'nv')\n",
    "os.mkdir(nv)\n",
    "mel = os.path.join(train_directory, 'mel')\n",
    "os.mkdir(mel)\n",
    "bkl = os.path.join(train_directory, 'bkl')\n",
    "os.mkdir(bkl)\n",
    "bcc = os.path.join(train_directory, 'bcc')\n",
    "os.mkdir(bcc)\n",
    "akiec = os.path.join(train_directory, 'akiec')\n",
    "os.mkdir(akiec)\n",
    "vasc = os.path.join(train_directory, 'vasc')\n",
    "os.mkdir(vasc)\n",
    "df = os.path.join(train_directory, 'df')\n",
    "os.mkdir(df)"
   ]
  },
  {
   "cell_type": "code",
   "execution_count": 9,
   "id": "e5540b4b",
   "metadata": {},
   "outputs": [],
   "source": [
    "# create folders inside val_directory\n",
    "nv = os.path.join(validation_directory, 'nv')\n",
    "os.mkdir(nv)\n",
    "mel = os.path.join(validation_directory, 'mel')\n",
    "os.mkdir(mel)\n",
    "bkl = os.path.join(validation_directory, 'bkl')\n",
    "os.mkdir(bkl)\n",
    "bcc = os.path.join(validation_directory, 'bcc')\n",
    "os.mkdir(bcc)\n",
    "akiec = os.path.join(validation_directory, 'akiec')\n",
    "os.mkdir(akiec)\n",
    "vasc = os.path.join(validation_directory, 'vasc')\n",
    "os.mkdir(vasc)\n",
    "df = os.path.join(validation_directory, 'df')\n",
    "os.mkdir(df)"
   ]
  },
  {
   "cell_type": "code",
   "execution_count": 10,
   "id": "d5b6c036",
   "metadata": {},
   "outputs": [
    {
     "data": {
      "text/html": [
       "<div>\n",
       "<style scoped>\n",
       "    .dataframe tbody tr th:only-of-type {\n",
       "        vertical-align: middle;\n",
       "    }\n",
       "\n",
       "    .dataframe tbody tr th {\n",
       "        vertical-align: top;\n",
       "    }\n",
       "\n",
       "    .dataframe thead th {\n",
       "        text-align: right;\n",
       "    }\n",
       "</style>\n",
       "<table border=\"1\" class=\"dataframe\">\n",
       "  <thead>\n",
       "    <tr style=\"text-align: right;\">\n",
       "      <th></th>\n",
       "      <th>lesion_id</th>\n",
       "      <th>image_id</th>\n",
       "      <th>dx</th>\n",
       "      <th>dx_type</th>\n",
       "      <th>age</th>\n",
       "      <th>sex</th>\n",
       "      <th>localization</th>\n",
       "    </tr>\n",
       "  </thead>\n",
       "  <tbody>\n",
       "    <tr>\n",
       "      <th>0</th>\n",
       "      <td>HAM_0000118</td>\n",
       "      <td>ISIC_0027419</td>\n",
       "      <td>bkl</td>\n",
       "      <td>histo</td>\n",
       "      <td>80.0</td>\n",
       "      <td>male</td>\n",
       "      <td>scalp</td>\n",
       "    </tr>\n",
       "    <tr>\n",
       "      <th>1</th>\n",
       "      <td>HAM_0000118</td>\n",
       "      <td>ISIC_0025030</td>\n",
       "      <td>bkl</td>\n",
       "      <td>histo</td>\n",
       "      <td>80.0</td>\n",
       "      <td>male</td>\n",
       "      <td>scalp</td>\n",
       "    </tr>\n",
       "    <tr>\n",
       "      <th>2</th>\n",
       "      <td>HAM_0002730</td>\n",
       "      <td>ISIC_0026769</td>\n",
       "      <td>bkl</td>\n",
       "      <td>histo</td>\n",
       "      <td>80.0</td>\n",
       "      <td>male</td>\n",
       "      <td>scalp</td>\n",
       "    </tr>\n",
       "    <tr>\n",
       "      <th>3</th>\n",
       "      <td>HAM_0002730</td>\n",
       "      <td>ISIC_0025661</td>\n",
       "      <td>bkl</td>\n",
       "      <td>histo</td>\n",
       "      <td>80.0</td>\n",
       "      <td>male</td>\n",
       "      <td>scalp</td>\n",
       "    </tr>\n",
       "    <tr>\n",
       "      <th>4</th>\n",
       "      <td>HAM_0001466</td>\n",
       "      <td>ISIC_0031633</td>\n",
       "      <td>bkl</td>\n",
       "      <td>histo</td>\n",
       "      <td>75.0</td>\n",
       "      <td>male</td>\n",
       "      <td>ear</td>\n",
       "    </tr>\n",
       "  </tbody>\n",
       "</table>\n",
       "</div>"
      ],
      "text/plain": [
       "     lesion_id      image_id   dx dx_type   age   sex localization\n",
       "0  HAM_0000118  ISIC_0027419  bkl   histo  80.0  male        scalp\n",
       "1  HAM_0000118  ISIC_0025030  bkl   histo  80.0  male        scalp\n",
       "2  HAM_0002730  ISIC_0026769  bkl   histo  80.0  male        scalp\n",
       "3  HAM_0002730  ISIC_0025661  bkl   histo  80.0  male        scalp\n",
       "4  HAM_0001466  ISIC_0031633  bkl   histo  75.0  male          ear"
      ]
     },
     "execution_count": 10,
     "metadata": {},
     "output_type": "execute_result"
    }
   ],
   "source": [
    "df_data = pd.read_csv('C:\\\\Users\\\\SUCHAL\\\\Downloads\\\\HAM10000_metadata.csv') \n",
    "df_data.head()"
   ]
  },
  {
   "cell_type": "code",
   "execution_count": 11,
   "id": "0f9ae48e",
   "metadata": {},
   "outputs": [
    {
     "data": {
      "text/html": [
       "<div>\n",
       "<style scoped>\n",
       "    .dataframe tbody tr th:only-of-type {\n",
       "        vertical-align: middle;\n",
       "    }\n",
       "\n",
       "    .dataframe tbody tr th {\n",
       "        vertical-align: top;\n",
       "    }\n",
       "\n",
       "    .dataframe thead th {\n",
       "        text-align: right;\n",
       "    }\n",
       "</style>\n",
       "<table border=\"1\" class=\"dataframe\">\n",
       "  <thead>\n",
       "    <tr style=\"text-align: right;\">\n",
       "      <th></th>\n",
       "      <th>lesion_id</th>\n",
       "      <th>image_id</th>\n",
       "      <th>dx</th>\n",
       "      <th>dx_type</th>\n",
       "      <th>age</th>\n",
       "      <th>sex</th>\n",
       "      <th>localization</th>\n",
       "    </tr>\n",
       "  </thead>\n",
       "  <tbody>\n",
       "    <tr>\n",
       "      <th>0</th>\n",
       "      <td>HAM_0000001</td>\n",
       "      <td>1</td>\n",
       "      <td>1</td>\n",
       "      <td>1</td>\n",
       "      <td>1</td>\n",
       "      <td>1</td>\n",
       "      <td>1</td>\n",
       "    </tr>\n",
       "    <tr>\n",
       "      <th>1</th>\n",
       "      <td>HAM_0000003</td>\n",
       "      <td>1</td>\n",
       "      <td>1</td>\n",
       "      <td>1</td>\n",
       "      <td>1</td>\n",
       "      <td>1</td>\n",
       "      <td>1</td>\n",
       "    </tr>\n",
       "    <tr>\n",
       "      <th>2</th>\n",
       "      <td>HAM_0000004</td>\n",
       "      <td>1</td>\n",
       "      <td>1</td>\n",
       "      <td>1</td>\n",
       "      <td>1</td>\n",
       "      <td>1</td>\n",
       "      <td>1</td>\n",
       "    </tr>\n",
       "    <tr>\n",
       "      <th>3</th>\n",
       "      <td>HAM_0000007</td>\n",
       "      <td>1</td>\n",
       "      <td>1</td>\n",
       "      <td>1</td>\n",
       "      <td>1</td>\n",
       "      <td>1</td>\n",
       "      <td>1</td>\n",
       "    </tr>\n",
       "    <tr>\n",
       "      <th>4</th>\n",
       "      <td>HAM_0000008</td>\n",
       "      <td>1</td>\n",
       "      <td>1</td>\n",
       "      <td>1</td>\n",
       "      <td>1</td>\n",
       "      <td>1</td>\n",
       "      <td>1</td>\n",
       "    </tr>\n",
       "  </tbody>\n",
       "</table>\n",
       "</div>"
      ],
      "text/plain": [
       "     lesion_id  image_id  dx  dx_type  age  sex  localization\n",
       "0  HAM_0000001         1   1        1    1    1             1\n",
       "1  HAM_0000003         1   1        1    1    1             1\n",
       "2  HAM_0000004         1   1        1    1    1             1\n",
       "3  HAM_0000007         1   1        1    1    1             1\n",
       "4  HAM_0000008         1   1        1    1    1             1"
      ]
     },
     "execution_count": 11,
     "metadata": {},
     "output_type": "execute_result"
    }
   ],
   "source": [
    "# this will tell me how many images are associated with each lesion_id\n",
    "df = df_data.groupby('lesion_id').count()\n",
    "\n",
    "# now I filter out lesion_id's that have only one image associated with it\n",
    "df = df[df['image_id'] == 1]\n",
    "\n",
    "df.reset_index(inplace=True)\n",
    "\n",
    "df.head()"
   ]
  },
  {
   "cell_type": "code",
   "execution_count": 12,
   "id": "c4fc9ecc",
   "metadata": {},
   "outputs": [
    {
     "data": {
      "text/html": [
       "<div>\n",
       "<style scoped>\n",
       "    .dataframe tbody tr th:only-of-type {\n",
       "        vertical-align: middle;\n",
       "    }\n",
       "\n",
       "    .dataframe tbody tr th {\n",
       "        vertical-align: top;\n",
       "    }\n",
       "\n",
       "    .dataframe thead th {\n",
       "        text-align: right;\n",
       "    }\n",
       "</style>\n",
       "<table border=\"1\" class=\"dataframe\">\n",
       "  <thead>\n",
       "    <tr style=\"text-align: right;\">\n",
       "      <th></th>\n",
       "      <th>lesion_id</th>\n",
       "      <th>image_id</th>\n",
       "      <th>dx</th>\n",
       "      <th>dx_type</th>\n",
       "      <th>age</th>\n",
       "      <th>sex</th>\n",
       "      <th>localization</th>\n",
       "      <th>duplicates</th>\n",
       "    </tr>\n",
       "  </thead>\n",
       "  <tbody>\n",
       "    <tr>\n",
       "      <th>0</th>\n",
       "      <td>HAM_0000118</td>\n",
       "      <td>ISIC_0027419</td>\n",
       "      <td>bkl</td>\n",
       "      <td>histo</td>\n",
       "      <td>80.0</td>\n",
       "      <td>male</td>\n",
       "      <td>scalp</td>\n",
       "      <td>has_duplicates</td>\n",
       "    </tr>\n",
       "    <tr>\n",
       "      <th>1</th>\n",
       "      <td>HAM_0000118</td>\n",
       "      <td>ISIC_0025030</td>\n",
       "      <td>bkl</td>\n",
       "      <td>histo</td>\n",
       "      <td>80.0</td>\n",
       "      <td>male</td>\n",
       "      <td>scalp</td>\n",
       "      <td>has_duplicates</td>\n",
       "    </tr>\n",
       "    <tr>\n",
       "      <th>2</th>\n",
       "      <td>HAM_0002730</td>\n",
       "      <td>ISIC_0026769</td>\n",
       "      <td>bkl</td>\n",
       "      <td>histo</td>\n",
       "      <td>80.0</td>\n",
       "      <td>male</td>\n",
       "      <td>scalp</td>\n",
       "      <td>has_duplicates</td>\n",
       "    </tr>\n",
       "    <tr>\n",
       "      <th>3</th>\n",
       "      <td>HAM_0002730</td>\n",
       "      <td>ISIC_0025661</td>\n",
       "      <td>bkl</td>\n",
       "      <td>histo</td>\n",
       "      <td>80.0</td>\n",
       "      <td>male</td>\n",
       "      <td>scalp</td>\n",
       "      <td>has_duplicates</td>\n",
       "    </tr>\n",
       "    <tr>\n",
       "      <th>4</th>\n",
       "      <td>HAM_0001466</td>\n",
       "      <td>ISIC_0031633</td>\n",
       "      <td>bkl</td>\n",
       "      <td>histo</td>\n",
       "      <td>75.0</td>\n",
       "      <td>male</td>\n",
       "      <td>ear</td>\n",
       "      <td>has_duplicates</td>\n",
       "    </tr>\n",
       "  </tbody>\n",
       "</table>\n",
       "</div>"
      ],
      "text/plain": [
       "     lesion_id      image_id   dx dx_type   age   sex localization  \\\n",
       "0  HAM_0000118  ISIC_0027419  bkl   histo  80.0  male        scalp   \n",
       "1  HAM_0000118  ISIC_0025030  bkl   histo  80.0  male        scalp   \n",
       "2  HAM_0002730  ISIC_0026769  bkl   histo  80.0  male        scalp   \n",
       "3  HAM_0002730  ISIC_0025661  bkl   histo  80.0  male        scalp   \n",
       "4  HAM_0001466  ISIC_0031633  bkl   histo  75.0  male          ear   \n",
       "\n",
       "       duplicates  \n",
       "0  has_duplicates  \n",
       "1  has_duplicates  \n",
       "2  has_duplicates  \n",
       "3  has_duplicates  \n",
       "4  has_duplicates  "
      ]
     },
     "execution_count": 12,
     "metadata": {},
     "output_type": "execute_result"
    }
   ],
   "source": [
    "# here I identify lesion_id's that have duplicate images and those that have only\n",
    "# one image.\n",
    "\n",
    "def identify_duplicates(x):\n",
    "    unique_list = list(df['lesion_id'])\n",
    "    if x in unique_list:\n",
    "        return 'no_duplicates'\n",
    "    else:\n",
    "        return 'has_duplicates'\n",
    "    \n",
    "# create a new colum that is a copy of the lesion_id column\n",
    "df_data['duplicates'] = df_data['lesion_id']\n",
    "# apply the function to this new column\n",
    "df_data['duplicates'] = df_data['duplicates'].apply(identify_duplicates)\n",
    "\n",
    "df_data.head()"
   ]
  },
  {
   "cell_type": "code",
   "execution_count": 13,
   "id": "d62ff91d",
   "metadata": {},
   "outputs": [
    {
     "data": {
      "text/plain": [
       "no_duplicates     5514\n",
       "has_duplicates    4501\n",
       "Name: duplicates, dtype: int64"
      ]
     },
     "execution_count": 13,
     "metadata": {},
     "output_type": "execute_result"
    }
   ],
   "source": [
    "df_data['duplicates'].value_counts()"
   ]
  },
  {
   "cell_type": "code",
   "execution_count": 14,
   "id": "751b0000",
   "metadata": {},
   "outputs": [
    {
     "data": {
      "text/plain": [
       "(5514, 8)"
      ]
     },
     "execution_count": 14,
     "metadata": {},
     "output_type": "execute_result"
    }
   ],
   "source": [
    "# filter out images that don't have duplicates\n",
    "df = df_data[df_data['duplicates'] == 'no_duplicates']\n",
    "\n",
    "df.shape"
   ]
  },
  {
   "cell_type": "markdown",
   "id": "70dad872",
   "metadata": {},
   "source": [
    "## Dataset Splitting into Training and Test sets"
   ]
  },
  {
   "cell_type": "code",
   "execution_count": 15,
   "id": "4a75e646",
   "metadata": {},
   "outputs": [
    {
     "data": {
      "text/plain": [
       "(1103, 8)"
      ]
     },
     "execution_count": 15,
     "metadata": {},
     "output_type": "execute_result"
    }
   ],
   "source": [
    "# create the validation set \n",
    "y = df['dx']\n",
    "\n",
    "_, df_validation = train_test_split(df, test_size=0.20, random_state=101, stratify=y)\n",
    "\n",
    "df_validation.shape"
   ]
  },
  {
   "cell_type": "code",
   "execution_count": 16,
   "id": "7ff446a8",
   "metadata": {},
   "outputs": [],
   "source": [
    "# Creating training set excluding all images that are in the Validation Set\n",
    "\n",
    "# This function identifies if an image is part of the train or val set.\n",
    "def identify_validation_rows(x):\n",
    "    # create a list of all the lesion_id's in the val set\n",
    "    validation_list = list(df_validation['image_id'])\n",
    "    if str(x) in validation_list:\n",
    "        return 'validation'\n",
    "    else:\n",
    "        return 'train'\n",
    "\n",
    "# identify train and val rows\n",
    "\n",
    "# create a new colum that is a copy of the image_id column\n",
    "df_data['train_or_validation'] = df_data['image_id']\n",
    "# apply the function to this new column\n",
    "df_data['train_or_validation'] = df_data['train_or_validation'].apply(identify_validation_rows)\n",
    "   \n",
    "# filter out train rows\n",
    "df_train = df_data[df_data['train_or_validation'] == 'train']"
   ]
  },
  {
   "cell_type": "code",
   "execution_count": 17,
   "id": "b6af8170",
   "metadata": {},
   "outputs": [
    {
     "name": "stdout",
     "output_type": "stream",
     "text": [
      "Number of images in the Train Set =  8912\n"
     ]
    },
    {
     "data": {
      "text/plain": [
       "nv       5822\n",
       "mel      1067\n",
       "bkl      1011\n",
       "bcc       479\n",
       "akiec     297\n",
       "vasc      129\n",
       "df        107\n",
       "Name: dx, dtype: int64"
      ]
     },
     "execution_count": 17,
     "metadata": {},
     "output_type": "execute_result"
    }
   ],
   "source": [
    "print(\"Number of images in the Train Set = \", len(df_train))\n",
    "df_train['dx'].value_counts()"
   ]
  },
  {
   "cell_type": "code",
   "execution_count": 18,
   "id": "ea4427f3",
   "metadata": {},
   "outputs": [
    {
     "name": "stdout",
     "output_type": "stream",
     "text": [
      "Number of images in the Validation Set =  1103\n"
     ]
    },
    {
     "data": {
      "text/plain": [
       "nv       883\n",
       "bkl       88\n",
       "mel       46\n",
       "bcc       35\n",
       "akiec     30\n",
       "vasc      13\n",
       "df         8\n",
       "Name: dx, dtype: int64"
      ]
     },
     "execution_count": 18,
     "metadata": {},
     "output_type": "execute_result"
    }
   ],
   "source": [
    "print(\"Number of images in the Validation Set = \", len(df_validation))\n",
    "df_validation['dx'].value_counts()"
   ]
  },
  {
   "cell_type": "markdown",
   "id": "35923b1a",
   "metadata": {},
   "source": [
    "## Sorting images into Training and test directories"
   ]
  },
  {
   "cell_type": "code",
   "execution_count": 19,
   "id": "3ce09ed6",
   "metadata": {},
   "outputs": [],
   "source": [
    "# get the image_id as the index in df_data\n",
    "df_data.set_index('image_id', inplace=True)"
   ]
  },
  {
   "cell_type": "code",
   "execution_count": 20,
   "id": "8579a959",
   "metadata": {},
   "outputs": [],
   "source": [
    "# get a list of images in each of the two folders\n",
    "images_folder_1 = os.listdir('C:\\\\Users\\\\SUCHAL\\\\Desktop\\\\Study\\\\Semester 2\\\\DMML2\\\\Dataset\\\\HAM10000_images_part_1')\n",
    "images_folder_2 = os.listdir('C:\\\\Users\\\\SUCHAL\\\\Desktop\\\\Study\\\\Semester 2\\\\DMML2\\\\Dataset\\\\HAM10000_images_part_2')\n",
    "\n",
    "# get a list of Train and Validation images\n",
    "train_images_list = list(df_train['image_id'])\n",
    "validation_images_list = list(df_validation['image_id'])\n"
   ]
  },
  {
   "cell_type": "code",
   "execution_count": 21,
   "id": "5a3d4396",
   "metadata": {},
   "outputs": [],
   "source": [
    "# transfer the Train Set images\n",
    "\n",
    "for image in train_images_list:\n",
    "    fname = image + '.jpg'\n",
    "    label = df_data.loc[image,'dx']\n",
    "    \n",
    "    if fname in images_folder_1:\n",
    "        # source path to image\n",
    "        source_path = os.path.join('C:\\\\Users\\\\SUCHAL\\\\Desktop\\\\Study\\\\Semester 2\\\\DMML2\\\\Dataset\\\\HAM10000_images_part_1', fname)\n",
    "        # destination path to image\n",
    "        destination_path = os.path.join('C:\\\\Users\\\\SUCHAL\\\\Desktop\\\\Study\\\\Semester 2\\\\DMML2\\\\base_directory\\\\train_directory', label, fname)\n",
    "        # copy the image from the source to the destination\n",
    "        shutil.copyfile(source_path, destination_path)\n",
    "\n",
    "    if fname in images_folder_2:\n",
    "        # source path to image\n",
    "        source_path = os.path.join('C:\\\\Users\\\\SUCHAL\\\\Desktop\\\\Study\\\\Semester 2\\\\DMML2\\\\Dataset\\\\HAM10000_images_part_2', fname)\n",
    "        # destination path to image\n",
    "        destination_path = os.path.join('C:\\\\Users\\\\SUCHAL\\\\Desktop\\\\Study\\\\Semester 2\\\\DMML2\\\\base_directory\\\\train_directory', label, fname)\n",
    "        # copy the image from the source to the destination\n",
    "        shutil.copyfile(source_path, destination_path)\n",
    "\n",
    "\n",
    "# transfer the Validation Set images\n",
    "\n",
    "for image in validation_images_list:\n",
    "    \n",
    "    fname = image + '.jpg'\n",
    "    label = df_data.loc[image,'dx']\n",
    "    \n",
    "    if fname in images_folder_1:\n",
    "        # source path to image\n",
    "        source_path = os.path.join('C:\\\\Users\\\\SUCHAL\\\\Desktop\\\\Study\\\\Semester 2\\\\DMML2\\\\Dataset\\\\HAM10000_images_part_1', fname)\n",
    "        # destination path to image\n",
    "        destination_path = os.path.join('C:\\\\Users\\\\SUCHAL\\\\Desktop\\\\Study\\\\Semester 2\\\\DMML2\\\\base_directory\\\\validation_directory', label, fname)\n",
    "        # copy the image from the source to the destination\n",
    "        shutil.copyfile(source_path, destination_path)\n",
    "\n",
    "    if fname in images_folder_2:\n",
    "        # source path to image\n",
    "        source_path = os.path.join('C:\\\\Users\\\\SUCHAL\\\\Desktop\\\\Study\\\\Semester 2\\\\DMML2\\\\Dataset\\\\HAM10000_images_part_2', fname)\n",
    "        # destination path to image\n",
    "        destination_path = os.path.join('C:\\\\Users\\\\SUCHAL\\\\Desktop\\\\Study\\\\Semester 2\\\\DMML2\\\\base_directory\\\\validation_directory', label, fname)\n",
    "        # copy the image from the source to the destination\n",
    "        shutil.copyfile(source_path, destination_path)"
   ]
  },
  {
   "cell_type": "code",
   "execution_count": 22,
   "id": "a239dc45",
   "metadata": {},
   "outputs": [
    {
     "name": "stdout",
     "output_type": "stream",
     "text": [
      "nv    :  5822\n",
      "mel   :  1067\n",
      "bkl   :  1011\n",
      "bcc   :  479\n",
      "akiec :  297\n",
      "vasc  :  129\n",
      "df    :  107\n"
     ]
    }
   ],
   "source": [
    "print(\"nv    : \", len(os.listdir('base_directory/train_directory/nv')))\n",
    "print(\"mel   : \", len(os.listdir('base_directory/train_directory/mel')))\n",
    "print(\"bkl   : \", len(os.listdir('base_directory/train_directory/bkl')))\n",
    "print(\"bcc   : \", len(os.listdir('base_directory/train_directory/bcc')))\n",
    "print(\"akiec : \", len(os.listdir('base_directory/train_directory/akiec')))\n",
    "print(\"vasc  : \", len(os.listdir('base_directory/train_directory/vasc')))\n",
    "print(\"df    : \", len(os.listdir('base_directory/train_directory/df')))"
   ]
  },
  {
   "cell_type": "code",
   "execution_count": 23,
   "id": "684bb0a8",
   "metadata": {},
   "outputs": [
    {
     "name": "stderr",
     "output_type": "stream",
     "text": [
      "C:\\Users\\SUCHAL\\anaconda3\\lib\\site-packages\\seaborn\\_decorators.py:36: FutureWarning: Pass the following variable as a keyword arg: x. From version 0.12, the only valid positional argument will be `data`, and passing other arguments without an explicit keyword will result in an error or misinterpretation.\n",
      "  warnings.warn(\n"
     ]
    },
    {
     "ename": "NameError",
     "evalue": "name 'dx' is not defined",
     "output_type": "error",
     "traceback": [
      "\u001b[1;31m---------------------------------------------------------------------------\u001b[0m",
      "\u001b[1;31mNameError\u001b[0m                                 Traceback (most recent call last)",
      "\u001b[1;32m~\\AppData\\Local\\Temp/ipykernel_11580/3766401545.py\u001b[0m in \u001b[0;36m<module>\u001b[1;34m\u001b[0m\n\u001b[0;32m      8\u001b[0m     \u001b[0mplt\u001b[0m\u001b[1;33m.\u001b[0m\u001b[0mshow\u001b[0m\u001b[1;33m(\u001b[0m\u001b[1;33m)\u001b[0m\u001b[1;33m\u001b[0m\u001b[1;33m\u001b[0m\u001b[0m\n\u001b[0;32m      9\u001b[0m \u001b[1;33m\u001b[0m\u001b[0m\n\u001b[1;32m---> 10\u001b[1;33m \u001b[0mplot_label_per_class\u001b[0m\u001b[1;33m(\u001b[0m\u001b[0mdf_train\u001b[0m\u001b[1;33m)\u001b[0m\u001b[1;33m\u001b[0m\u001b[1;33m\u001b[0m\u001b[0m\n\u001b[0m",
      "\u001b[1;32m~\\AppData\\Local\\Temp/ipykernel_11580/3766401545.py\u001b[0m in \u001b[0;36mplot_label_per_class\u001b[1;34m(data)\u001b[0m\n\u001b[0;32m      5\u001b[0m \u001b[1;33m\u001b[0m\u001b[0m\n\u001b[0;32m      6\u001b[0m     \u001b[1;32mfor\u001b[0m \u001b[0mp\u001b[0m\u001b[1;33m,\u001b[0m \u001b[0mlabel\u001b[0m \u001b[1;32min\u001b[0m \u001b[0mzip\u001b[0m\u001b[1;33m(\u001b[0m\u001b[0mg\u001b[0m\u001b[1;33m.\u001b[0m\u001b[0mpatches\u001b[0m\u001b[1;33m,\u001b[0m \u001b[0mdata\u001b[0m\u001b[1;33m[\u001b[0m\u001b[1;34m\"dx\"\u001b[0m\u001b[1;33m]\u001b[0m\u001b[1;33m.\u001b[0m\u001b[0mvalue_counts\u001b[0m\u001b[1;33m(\u001b[0m\u001b[1;33m)\u001b[0m\u001b[1;33m.\u001b[0m\u001b[0mindex\u001b[0m\u001b[1;33m)\u001b[0m\u001b[1;33m:\u001b[0m\u001b[1;33m\u001b[0m\u001b[1;33m\u001b[0m\u001b[0m\n\u001b[1;32m----> 7\u001b[1;33m         \u001b[0mg\u001b[0m\u001b[1;33m.\u001b[0m\u001b[0mannotate\u001b[0m\u001b[1;33m(\u001b[0m\u001b[0mlabel\u001b[0m\u001b[1;33m[\u001b[0m\u001b[0mdx\u001b[0m\u001b[1;33m]\u001b[0m\u001b[1;33m,\u001b[0m \u001b[1;33m(\u001b[0m\u001b[0mp\u001b[0m\u001b[1;33m.\u001b[0m\u001b[0mget_x\u001b[0m\u001b[1;33m(\u001b[0m\u001b[1;33m)\u001b[0m\u001b[1;33m,\u001b[0m \u001b[0mp\u001b[0m\u001b[1;33m.\u001b[0m\u001b[0mget_height\u001b[0m\u001b[1;33m(\u001b[0m\u001b[1;33m)\u001b[0m\u001b[1;33m+\u001b[0m\u001b[1;36m0.1\u001b[0m\u001b[1;33m)\u001b[0m\u001b[1;33m)\u001b[0m\u001b[1;33m\u001b[0m\u001b[1;33m\u001b[0m\u001b[0m\n\u001b[0m\u001b[0;32m      8\u001b[0m     \u001b[0mplt\u001b[0m\u001b[1;33m.\u001b[0m\u001b[0mshow\u001b[0m\u001b[1;33m(\u001b[0m\u001b[1;33m)\u001b[0m\u001b[1;33m\u001b[0m\u001b[1;33m\u001b[0m\u001b[0m\n\u001b[0;32m      9\u001b[0m \u001b[1;33m\u001b[0m\u001b[0m\n",
      "\u001b[1;31mNameError\u001b[0m: name 'dx' is not defined"
     ]
    },
    {
     "data": {
      "image/png": "[encoded data removed]",
      "text/plain": [
       "<Figure size 864x288 with 1 Axes>"
      ]
     },
     "metadata": {
      "needs_background": "light"
     },
     "output_type": "display_data"
    }
   ],
   "source": [
    "def plot_label_per_class(data):\n",
    "    f, ax = plt.subplots(1,1, figsize=(12,4))\n",
    "    g = sns.countplot(data.dx, order = data[\"dx\"].value_counts().index)\n",
    "    g.set_title(\"Number of labels for each class\")\n",
    "\n",
    "    for p, label in zip(g.patches, data[\"dx\"].value_counts().index):\n",
    "        g.annotate(label[dx], (p.get_x(), p.get_height()+0.1))\n",
    "    plt.show()  \n",
    "    \n",
    "plot_label_per_class(df_train)"
   ]
  },
  {
   "cell_type": "code",
   "execution_count": 24,
   "id": "1f729df3",
   "metadata": {},
   "outputs": [
    {
     "name": "stdout",
     "output_type": "stream",
     "text": [
      "nv    :  883\n",
      "mel   :  46\n",
      "bkl   :  88\n",
      "bcc   :  35\n",
      "akiec :  30\n",
      "vasc  :  13\n",
      "df    :  8\n"
     ]
    }
   ],
   "source": [
    "print(\"nv    : \", len(os.listdir('base_directory/validation_directory/nv')))\n",
    "print(\"mel   : \", len(os.listdir('base_directory/validation_directory/mel')))\n",
    "print(\"bkl   : \", len(os.listdir('base_directory/validation_directory/bkl')))\n",
    "print(\"bcc   : \", len(os.listdir('base_directory/validation_directory/bcc')))\n",
    "print(\"akiec : \", len(os.listdir('base_directory/validation_directory/akiec')))\n",
    "print(\"vasc  : \", len(os.listdir('base_directory/validation_directory/vasc')))\n",
    "print(\"df    : \", len(os.listdir('base_directory/validation_directory/df')))"
   ]
  },
  {
   "cell_type": "code",
   "execution_count": 25,
   "id": "7951f5f4",
   "metadata": {},
   "outputs": [
    {
     "name": "stderr",
     "output_type": "stream",
     "text": [
      "C:\\Users\\SUCHAL\\anaconda3\\lib\\site-packages\\seaborn\\_decorators.py:36: FutureWarning: Pass the following variable as a keyword arg: x. From version 0.12, the only valid positional argument will be `data`, and passing other arguments without an explicit keyword will result in an error or misinterpretation.\n",
      "  warnings.warn(\n"
     ]
    },
    {
     "ename": "NameError",
     "evalue": "name 'dx' is not defined",
     "output_type": "error",
     "traceback": [
      "\u001b[1;31m---------------------------------------------------------------------------\u001b[0m",
      "\u001b[1;31mNameError\u001b[0m                                 Traceback (most recent call last)",
      "\u001b[1;32m~\\AppData\\Local\\Temp/ipykernel_11580/3766401545.py\u001b[0m in \u001b[0;36m<module>\u001b[1;34m\u001b[0m\n\u001b[0;32m      8\u001b[0m     \u001b[0mplt\u001b[0m\u001b[1;33m.\u001b[0m\u001b[0mshow\u001b[0m\u001b[1;33m(\u001b[0m\u001b[1;33m)\u001b[0m\u001b[1;33m\u001b[0m\u001b[1;33m\u001b[0m\u001b[0m\n\u001b[0;32m      9\u001b[0m \u001b[1;33m\u001b[0m\u001b[0m\n\u001b[1;32m---> 10\u001b[1;33m \u001b[0mplot_label_per_class\u001b[0m\u001b[1;33m(\u001b[0m\u001b[0mdf_train\u001b[0m\u001b[1;33m)\u001b[0m\u001b[1;33m\u001b[0m\u001b[1;33m\u001b[0m\u001b[0m\n\u001b[0m",
      "\u001b[1;32m~\\AppData\\Local\\Temp/ipykernel_11580/3766401545.py\u001b[0m in \u001b[0;36mplot_label_per_class\u001b[1;34m(data)\u001b[0m\n\u001b[0;32m      5\u001b[0m \u001b[1;33m\u001b[0m\u001b[0m\n\u001b[0;32m      6\u001b[0m     \u001b[1;32mfor\u001b[0m \u001b[0mp\u001b[0m\u001b[1;33m,\u001b[0m \u001b[0mlabel\u001b[0m \u001b[1;32min\u001b[0m \u001b[0mzip\u001b[0m\u001b[1;33m(\u001b[0m\u001b[0mg\u001b[0m\u001b[1;33m.\u001b[0m\u001b[0mpatches\u001b[0m\u001b[1;33m,\u001b[0m \u001b[0mdata\u001b[0m\u001b[1;33m[\u001b[0m\u001b[1;34m\"dx\"\u001b[0m\u001b[1;33m]\u001b[0m\u001b[1;33m.\u001b[0m\u001b[0mvalue_counts\u001b[0m\u001b[1;33m(\u001b[0m\u001b[1;33m)\u001b[0m\u001b[1;33m.\u001b[0m\u001b[0mindex\u001b[0m\u001b[1;33m)\u001b[0m\u001b[1;33m:\u001b[0m\u001b[1;33m\u001b[0m\u001b[1;33m\u001b[0m\u001b[0m\n\u001b[1;32m----> 7\u001b[1;33m         \u001b[0mg\u001b[0m\u001b[1;33m.\u001b[0m\u001b[0mannotate\u001b[0m\u001b[1;33m(\u001b[0m\u001b[0mlabel\u001b[0m\u001b[1;33m[\u001b[0m\u001b[0mdx\u001b[0m\u001b[1;33m]\u001b[0m\u001b[1;33m,\u001b[0m \u001b[1;33m(\u001b[0m\u001b[0mp\u001b[0m\u001b[1;33m.\u001b[0m\u001b[0mget_x\u001b[0m\u001b[1;33m(\u001b[0m\u001b[1;33m)\u001b[0m\u001b[1;33m,\u001b[0m \u001b[0mp\u001b[0m\u001b[1;33m.\u001b[0m\u001b[0mget_height\u001b[0m\u001b[1;33m(\u001b[0m\u001b[1;33m)\u001b[0m\u001b[1;33m+\u001b[0m\u001b[1;36m0.1\u001b[0m\u001b[1;33m)\u001b[0m\u001b[1;33m)\u001b[0m\u001b[1;33m\u001b[0m\u001b[1;33m\u001b[0m\u001b[0m\n\u001b[0m\u001b[0;32m      8\u001b[0m     \u001b[0mplt\u001b[0m\u001b[1;33m.\u001b[0m\u001b[0mshow\u001b[0m\u001b[1;33m(\u001b[0m\u001b[1;33m)\u001b[0m\u001b[1;33m\u001b[0m\u001b[1;33m\u001b[0m\u001b[0m\n\u001b[0;32m      9\u001b[0m \u001b[1;33m\u001b[0m\u001b[0m\n",
      "\u001b[1;31mNameError\u001b[0m: name 'dx' is not defined"
     ]
    },
    {
     "data": {
      "image/png": "[encoded data removed]",
      "text/plain": [
       "<Figure size 864x288 with 1 Axes>"
      ]
     },
     "metadata": {
      "needs_background": "light"
     },
     "output_type": "display_data"
    }
   ],
   "source": [
    "def plot_label_per_class(data):\n",
    "    f, ax = plt.subplots(1,1, figsize=(12,4))\n",
    "    g = sns.countplot(data.dx, order = data[\"dx\"].value_counts().index)\n",
    "    g.set_title(\"Number of labels for each class\")\n",
    "\n",
    "    for p, label in zip(g.patches, data[\"dx\"].value_counts().index):\n",
    "        g.annotate(label[dx], (p.get_x(), p.get_height()+0.1))\n",
    "    plt.show()  \n",
    "    \n",
    "plot_label_per_class(df_train)"
   ]
  },
  {
   "cell_type": "markdown",
   "id": "c91fa299",
   "metadata": {},
   "source": [
    "### Preprocessing the Training set"
   ]
  },
  {
   "cell_type": "code",
   "execution_count": 26,
   "id": "51a844ac",
   "metadata": {},
   "outputs": [
    {
     "name": "stdout",
     "output_type": "stream",
     "text": [
      "Found 8912 images belonging to 7 classes.\n"
     ]
    }
   ],
   "source": [
    "train_datagen = ImageDataGenerator(rescale = 1./255,\n",
    "                                   shear_range = 0.2,\n",
    "                                   zoom_range = 0.2,\n",
    "                                   horizontal_flip = True)\n",
    "training_set = train_datagen.flow_from_directory('C:\\\\Users\\\\SUCHAL\\\\Desktop\\\\Study\\\\Semester 2\\\\DMML2\\\\base_directory\\\\train_directory',\n",
    "                                                 target_size = (64, 64),\n",
    "                                                 batch_size = 32,\n",
    "                                                 class_mode = 'categorical')"
   ]
  },
  {
   "cell_type": "markdown",
   "id": "90fff210",
   "metadata": {},
   "source": [
    "### Preprocessing the Test set"
   ]
  },
  {
   "cell_type": "code",
   "execution_count": 27,
   "id": "0d8d1f64",
   "metadata": {},
   "outputs": [
    {
     "name": "stdout",
     "output_type": "stream",
     "text": [
      "Found 1103 images belonging to 7 classes.\n"
     ]
    }
   ],
   "source": [
    "test_datagen = ImageDataGenerator(rescale = 1./255)\n",
    "test_set = test_datagen.flow_from_directory('C:\\\\Users\\\\SUCHAL\\\\Desktop\\\\Study\\\\Semester 2\\\\DMML2\\\\base_directory\\\\validation_directory',\n",
    "                                            target_size = (64, 64),\n",
    "                                            batch_size = 32,\n",
    "                                            class_mode = 'categorical')"
   ]
  },
  {
   "cell_type": "markdown",
   "id": "0514029c",
   "metadata": {},
   "source": [
    "## Building the CNN- Part 3"
   ]
  },
  {
   "cell_type": "markdown",
   "id": "26bc7875",
   "metadata": {},
   "source": [
    "### Initialising the CNN"
   ]
  },
  {
   "cell_type": "code",
   "execution_count": 28,
   "id": "d0aadfcc",
   "metadata": {},
   "outputs": [],
   "source": [
    "cnn = tf.keras.models.Sequential()"
   ]
  },
  {
   "cell_type": "markdown",
   "id": "d159595c",
   "metadata": {},
   "source": [
    "### Convolution layer"
   ]
  },
  {
   "cell_type": "code",
   "execution_count": 29,
   "id": "957f220e",
   "metadata": {},
   "outputs": [],
   "source": [
    "cnn.add(tf.keras.layers.Conv2D(filters=32, kernel_size=3, activation='relu', input_shape=[64, 64, 3]))"
   ]
  },
  {
   "cell_type": "markdown",
   "id": "0e2eab1b",
   "metadata": {},
   "source": [
    "### Pooling"
   ]
  },
  {
   "cell_type": "code",
   "execution_count": 30,
   "id": "036182c1",
   "metadata": {},
   "outputs": [],
   "source": [
    "cnn.add(tf.keras.layers.MaxPool2D(pool_size=2, strides=2))"
   ]
  },
  {
   "cell_type": "code",
   "execution_count": 31,
   "id": "441c4199",
   "metadata": {},
   "outputs": [],
   "source": [
    "cnn.add(tf.keras.layers.Dropout(0.25))"
   ]
  },
  {
   "cell_type": "markdown",
   "id": "7feac9fc",
   "metadata": {},
   "source": [
    "### Adding a second convolutional layer"
   ]
  },
  {
   "cell_type": "code",
   "execution_count": 32,
   "id": "30dee803",
   "metadata": {},
   "outputs": [],
   "source": [
    "cnn.add(tf.keras.layers.Conv2D(filters=32, kernel_size=3, activation='relu'))\n",
    "cnn.add(tf.keras.layers.Dropout(0.25))\n",
    "cnn.add(tf.keras.layers.MaxPool2D(pool_size=2, strides=2))"
   ]
  },
  {
   "cell_type": "markdown",
   "id": "fe719c6a",
   "metadata": {},
   "source": [
    "### Flattening"
   ]
  },
  {
   "cell_type": "code",
   "execution_count": 33,
   "id": "eca9311c",
   "metadata": {},
   "outputs": [],
   "source": [
    "cnn.add(tf.keras.layers.Flatten())"
   ]
  },
  {
   "cell_type": "markdown",
   "id": "3b9abae3",
   "metadata": {},
   "source": [
    "### Full connection"
   ]
  },
  {
   "cell_type": "code",
   "execution_count": 34,
   "id": "fc5c6b5b",
   "metadata": {},
   "outputs": [],
   "source": [
    "cnn.add(tf.keras.layers.Dense(units=1024, activation='relu'))"
   ]
  },
  {
   "cell_type": "markdown",
   "id": "9957b853",
   "metadata": {},
   "source": [
    "### Output layer"
   ]
  },
  {
   "cell_type": "code",
   "execution_count": 35,
   "id": "7acf64d2",
   "metadata": {},
   "outputs": [],
   "source": [
    "cnn.add(tf.keras.layers.Dense(units=7, activation='softmax'))"
   ]
  },
  {
   "cell_type": "markdown",
   "id": "ed086ae7",
   "metadata": {},
   "source": [
    "## Training the CNN- Part 4"
   ]
  },
  {
   "cell_type": "code",
   "execution_count": 36,
   "id": "299275e9",
   "metadata": {},
   "outputs": [],
   "source": [
    "#opt = keras.optimizers.Adam(learning_rate=0.01)\n",
    "cnn.compile(optimizer = 'adam', loss = 'categorical_crossentropy', metrics = ['accuracy'])"
   ]
  },
  {
   "cell_type": "code",
   "execution_count": 38,
   "id": "0d8e543f",
   "metadata": {},
   "outputs": [
    {
     "name": "stdout",
     "output_type": "stream",
     "text": [
      "Epoch 1/100\n",
      "279/279 [==============================] - 321s 1s/step - loss: 0.9161 - accuracy: 0.6643 - val_loss: 0.8397 - val_accuracy: 0.8015\n",
      "Epoch 2/100\n",
      "279/279 [==============================] - 319s 1s/step - loss: 0.8530 - accuracy: 0.6814 - val_loss: 0.5743 - val_accuracy: 0.8341\n",
      "Epoch 3/100\n",
      "279/279 [==============================] - 323s 1s/step - loss: 0.8118 - accuracy: 0.7010 - val_loss: 0.6759 - val_accuracy: 0.8323\n",
      "Epoch 4/100\n",
      "279/279 [==============================] - 323s 1s/step - loss: 0.7936 - accuracy: 0.7079 - val_loss: 0.5341 - val_accuracy: 0.8368\n",
      "Epoch 5/100\n",
      "279/279 [==============================] - 333s 1s/step - loss: 0.7649 - accuracy: 0.7179 - val_loss: 0.5922 - val_accuracy: 0.8286\n",
      "Epoch 6/100\n",
      "279/279 [==============================] - 341s 1s/step - loss: 0.7390 - accuracy: 0.7218 - val_loss: 0.4986 - val_accuracy: 0.8305\n",
      "Epoch 7/100\n",
      "279/279 [==============================] - 347s 1s/step - loss: 0.7204 - accuracy: 0.7317 - val_loss: 0.5566 - val_accuracy: 0.8504\n",
      "Epoch 8/100\n",
      "279/279 [==============================] - 335s 1s/step - loss: 0.7020 - accuracy: 0.7356 - val_loss: 0.4704 - val_accuracy: 0.8540\n",
      "Epoch 9/100\n",
      "279/279 [==============================] - 327s 1s/step - loss: 0.6887 - accuracy: 0.7458 - val_loss: 0.4529 - val_accuracy: 0.8531\n",
      "Epoch 10/100\n",
      "279/279 [==============================] - 324s 1s/step - loss: 0.6811 - accuracy: 0.7434 - val_loss: 0.4318 - val_accuracy: 0.8477\n",
      "Epoch 11/100\n",
      "279/279 [==============================] - 322s 1s/step - loss: 0.6748 - accuracy: 0.7471 - val_loss: 0.4535 - val_accuracy: 0.8468\n",
      "Epoch 12/100\n",
      "279/279 [==============================] - 326s 1s/step - loss: 0.6534 - accuracy: 0.7531 - val_loss: 0.4301 - val_accuracy: 0.8640\n",
      "Epoch 13/100\n",
      "279/279 [==============================] - 326s 1s/step - loss: 0.6339 - accuracy: 0.7566 - val_loss: 0.4644 - val_accuracy: 0.8422\n",
      "Epoch 14/100\n",
      "279/279 [==============================] - 336s 1s/step - loss: 0.6196 - accuracy: 0.7637 - val_loss: 0.4229 - val_accuracy: 0.8613\n",
      "Epoch 15/100\n",
      "279/279 [==============================] - 201s 718ms/step - loss: 0.6102 - accuracy: 0.7677 - val_loss: 0.4236 - val_accuracy: 0.8486\n",
      "Epoch 16/100\n",
      "279/279 [==============================] - 183s 655ms/step - loss: 0.5908 - accuracy: 0.7791 - val_loss: 0.5139 - val_accuracy: 0.8377\n",
      "Epoch 17/100\n",
      "279/279 [==============================] - 173s 620ms/step - loss: 0.5791 - accuracy: 0.7815 - val_loss: 0.4172 - val_accuracy: 0.8477\n",
      "Epoch 18/100\n",
      "279/279 [==============================] - 211s 758ms/step - loss: 0.5603 - accuracy: 0.7852 - val_loss: 0.4466 - val_accuracy: 0.8486\n",
      "Epoch 19/100\n",
      "279/279 [==============================] - 192s 686ms/step - loss: 0.5506 - accuracy: 0.7873 - val_loss: 0.4220 - val_accuracy: 0.8640\n",
      "Epoch 20/100\n",
      "279/279 [==============================] - 188s 673ms/step - loss: 0.5228 - accuracy: 0.7958 - val_loss: 0.4139 - val_accuracy: 0.8531\n",
      "Epoch 21/100\n",
      "279/279 [==============================] - 173s 618ms/step - loss: 0.5159 - accuracy: 0.8057 - val_loss: 0.4284 - val_accuracy: 0.8658\n",
      "Epoch 22/100\n",
      "279/279 [==============================] - 172s 616ms/step - loss: 0.5016 - accuracy: 0.8086 - val_loss: 0.4333 - val_accuracy: 0.8595\n",
      "Epoch 23/100\n",
      "279/279 [==============================] - 174s 624ms/step - loss: 0.4940 - accuracy: 0.8104 - val_loss: 0.4600 - val_accuracy: 0.8540\n",
      "Epoch 24/100\n",
      "279/279 [==============================] - 174s 622ms/step - loss: 0.4765 - accuracy: 0.8145 - val_loss: 0.4678 - val_accuracy: 0.8432\n",
      "Epoch 25/100\n",
      "279/279 [==============================] - 181s 648ms/step - loss: 0.4605 - accuracy: 0.8282 - val_loss: 0.4553 - val_accuracy: 0.8441\n",
      "Epoch 26/100\n",
      "279/279 [==============================] - 177s 633ms/step - loss: 0.4416 - accuracy: 0.8311 - val_loss: 0.4666 - val_accuracy: 0.8432\n",
      "Epoch 27/100\n",
      "279/279 [==============================] - 174s 623ms/step - loss: 0.4265 - accuracy: 0.8375 - val_loss: 0.4631 - val_accuracy: 0.8586\n",
      "Epoch 28/100\n",
      "279/279 [==============================] - 173s 622ms/step - loss: 0.4080 - accuracy: 0.8438 - val_loss: 0.4710 - val_accuracy: 0.8549\n",
      "Epoch 29/100\n",
      "279/279 [==============================] - 180s 644ms/step - loss: 0.3987 - accuracy: 0.8514 - val_loss: 0.4687 - val_accuracy: 0.8604\n",
      "Epoch 30/100\n",
      "279/279 [==============================] - 181s 650ms/step - loss: 0.3910 - accuracy: 0.8546 - val_loss: 0.4616 - val_accuracy: 0.8667\n",
      "Epoch 31/100\n",
      "279/279 [==============================] - 179s 643ms/step - loss: 0.3798 - accuracy: 0.8585 - val_loss: 0.5229 - val_accuracy: 0.8432\n",
      "Epoch 32/100\n",
      "279/279 [==============================] - 174s 623ms/step - loss: 0.3697 - accuracy: 0.8640 - val_loss: 0.4841 - val_accuracy: 0.8568\n",
      "Epoch 33/100\n",
      "279/279 [==============================] - 176s 632ms/step - loss: 0.3569 - accuracy: 0.8636 - val_loss: 0.4861 - val_accuracy: 0.8586\n",
      "Epoch 34/100\n",
      "279/279 [==============================] - 180s 643ms/step - loss: 0.3485 - accuracy: 0.8719 - val_loss: 0.4902 - val_accuracy: 0.8595\n",
      "Epoch 35/100\n",
      "279/279 [==============================] - 174s 622ms/step - loss: 0.3315 - accuracy: 0.8747 - val_loss: 0.5365 - val_accuracy: 0.8432\n",
      "Epoch 36/100\n",
      "279/279 [==============================] - 176s 630ms/step - loss: 0.3405 - accuracy: 0.8732 - val_loss: 0.5042 - val_accuracy: 0.8522\n",
      "Epoch 37/100\n",
      "279/279 [==============================] - 176s 629ms/step - loss: 0.3200 - accuracy: 0.8802 - val_loss: 0.4953 - val_accuracy: 0.8676\n",
      "Epoch 38/100\n",
      "279/279 [==============================] - 173s 621ms/step - loss: 0.2891 - accuracy: 0.8935 - val_loss: 0.5109 - val_accuracy: 0.8549\n",
      "Epoch 39/100\n",
      "279/279 [==============================] - 176s 630ms/step - loss: 0.2885 - accuracy: 0.8909 - val_loss: 0.5460 - val_accuracy: 0.8441\n",
      "Epoch 40/100\n",
      "279/279 [==============================] - 209s 750ms/step - loss: 0.2928 - accuracy: 0.8931 - val_loss: 0.5714 - val_accuracy: 0.8422\n",
      "Epoch 41/100\n",
      "279/279 [==============================] - 213s 762ms/step - loss: 0.2748 - accuracy: 0.8967 - val_loss: 0.5264 - val_accuracy: 0.8459\n",
      "Epoch 42/100\n",
      "279/279 [==============================] - 207s 742ms/step - loss: 0.2658 - accuracy: 0.9008 - val_loss: 0.5506 - val_accuracy: 0.8513\n",
      "Epoch 43/100\n",
      "279/279 [==============================] - 180s 644ms/step - loss: 0.2495 - accuracy: 0.9046 - val_loss: 0.5950 - val_accuracy: 0.8432\n",
      "Epoch 44/100\n",
      "279/279 [==============================] - 176s 631ms/step - loss: 0.2473 - accuracy: 0.9069 - val_loss: 0.5495 - val_accuracy: 0.8531\n",
      "Epoch 45/100\n",
      "279/279 [==============================] - 177s 633ms/step - loss: 0.2382 - accuracy: 0.9108 - val_loss: 0.6191 - val_accuracy: 0.8450\n",
      "Epoch 46/100\n",
      "279/279 [==============================] - 179s 641ms/step - loss: 0.2384 - accuracy: 0.9117 - val_loss: 0.5406 - val_accuracy: 0.8477\n",
      "Epoch 47/100\n",
      "279/279 [==============================] - 177s 635ms/step - loss: 0.2199 - accuracy: 0.9186 - val_loss: 0.5886 - val_accuracy: 0.8486\n",
      "Epoch 48/100\n",
      "279/279 [==============================] - 178s 636ms/step - loss: 0.2230 - accuracy: 0.9146 - val_loss: 0.6197 - val_accuracy: 0.8495\n",
      "Epoch 49/100\n",
      "279/279 [==============================] - 176s 630ms/step - loss: 0.2241 - accuracy: 0.9200 - val_loss: 0.5989 - val_accuracy: 0.8441\n",
      "Epoch 50/100\n",
      "279/279 [==============================] - 176s 631ms/step - loss: 0.2062 - accuracy: 0.9229 - val_loss: 0.5945 - val_accuracy: 0.8622\n",
      "Epoch 51/100\n",
      "279/279 [==============================] - 184s 660ms/step - loss: 0.1985 - accuracy: 0.9263 - val_loss: 0.6175 - val_accuracy: 0.8568\n",
      "Epoch 52/100\n",
      "279/279 [==============================] - 184s 659ms/step - loss: 0.1941 - accuracy: 0.9283 - val_loss: 0.6432 - val_accuracy: 0.8432\n",
      "Epoch 53/100\n",
      "279/279 [==============================] - 186s 667ms/step - loss: 0.2056 - accuracy: 0.9253 - val_loss: 0.6283 - val_accuracy: 0.8413\n",
      "Epoch 54/100\n",
      "279/279 [==============================] - 185s 664ms/step - loss: 0.2005 - accuracy: 0.9293 - val_loss: 0.6834 - val_accuracy: 0.8359\n",
      "Epoch 55/100\n",
      "279/279 [==============================] - 187s 669ms/step - loss: 0.2102 - accuracy: 0.9248 - val_loss: 0.6351 - val_accuracy: 0.8368\n",
      "Epoch 56/100\n",
      "279/279 [==============================] - 185s 663ms/step - loss: 0.1744 - accuracy: 0.9373 - val_loss: 0.6405 - val_accuracy: 0.8531\n"
     ]
    },
    {
     "name": "stdout",
     "output_type": "stream",
     "text": [
      "Epoch 57/100\n",
      "279/279 [==============================] - 187s 670ms/step - loss: 0.1761 - accuracy: 0.9359 - val_loss: 0.6340 - val_accuracy: 0.8450\n",
      "Epoch 58/100\n",
      "279/279 [==============================] - 185s 661ms/step - loss: 0.1846 - accuracy: 0.9346 - val_loss: 0.6581 - val_accuracy: 0.8432\n",
      "Epoch 59/100\n",
      "279/279 [==============================] - 177s 632ms/step - loss: 0.1717 - accuracy: 0.9391 - val_loss: 0.6591 - val_accuracy: 0.8540\n",
      "Epoch 60/100\n",
      "279/279 [==============================] - 176s 630ms/step - loss: 0.1649 - accuracy: 0.9393 - val_loss: 0.6426 - val_accuracy: 0.8477\n",
      "Epoch 61/100\n",
      "279/279 [==============================] - 177s 634ms/step - loss: 0.1535 - accuracy: 0.9450 - val_loss: 0.6468 - val_accuracy: 0.8622\n",
      "Epoch 62/100\n",
      "279/279 [==============================] - 175s 626ms/step - loss: 0.1547 - accuracy: 0.9436 - val_loss: 0.7188 - val_accuracy: 0.8504\n",
      "Epoch 63/100\n",
      "279/279 [==============================] - 175s 626ms/step - loss: 0.1630 - accuracy: 0.9414 - val_loss: 0.6917 - val_accuracy: 0.8540\n",
      "Epoch 64/100\n",
      "279/279 [==============================] - 175s 629ms/step - loss: 0.1342 - accuracy: 0.9513 - val_loss: 0.6281 - val_accuracy: 0.8604\n",
      "Epoch 65/100\n",
      "279/279 [==============================] - 175s 626ms/step - loss: 0.1521 - accuracy: 0.9460 - val_loss: 0.6745 - val_accuracy: 0.8522\n",
      "Epoch 66/100\n",
      "279/279 [==============================] - 176s 629ms/step - loss: 0.1407 - accuracy: 0.9506 - val_loss: 0.6921 - val_accuracy: 0.8486\n",
      "Epoch 67/100\n",
      "279/279 [==============================] - 176s 630ms/step - loss: 0.1432 - accuracy: 0.9491 - val_loss: 0.7130 - val_accuracy: 0.8359\n",
      "Epoch 68/100\n",
      "279/279 [==============================] - 180s 646ms/step - loss: 0.1325 - accuracy: 0.9496 - val_loss: 0.6686 - val_accuracy: 0.8595\n",
      "Epoch 69/100\n",
      "279/279 [==============================] - 179s 642ms/step - loss: 0.1351 - accuracy: 0.9524 - val_loss: 0.6923 - val_accuracy: 0.8432\n",
      "Epoch 70/100\n",
      "279/279 [==============================] - 176s 631ms/step - loss: 0.1517 - accuracy: 0.9485 - val_loss: 0.6902 - val_accuracy: 0.8577\n",
      "Epoch 71/100\n",
      "279/279 [==============================] - 177s 634ms/step - loss: 0.1344 - accuracy: 0.9523 - val_loss: 0.6241 - val_accuracy: 0.8540\n",
      "Epoch 72/100\n",
      "279/279 [==============================] - 171s 613ms/step - loss: 0.1127 - accuracy: 0.9567 - val_loss: 0.7580 - val_accuracy: 0.8450\n",
      "Epoch 73/100\n",
      "279/279 [==============================] - 174s 624ms/step - loss: 0.1351 - accuracy: 0.9515 - val_loss: 0.7277 - val_accuracy: 0.8495\n",
      "Epoch 74/100\n",
      "279/279 [==============================] - 174s 622ms/step - loss: 0.1316 - accuracy: 0.9541 - val_loss: 0.7084 - val_accuracy: 0.8558\n",
      "Epoch 75/100\n",
      "279/279 [==============================] - 176s 630ms/step - loss: 0.1171 - accuracy: 0.9606 - val_loss: 0.6369 - val_accuracy: 0.8486\n",
      "Epoch 76/100\n",
      "279/279 [==============================] - 173s 619ms/step - loss: 0.1213 - accuracy: 0.9559 - val_loss: 0.8321 - val_accuracy: 0.8477\n",
      "Epoch 77/100\n",
      "279/279 [==============================] - 209s 750ms/step - loss: 0.1423 - accuracy: 0.9468 - val_loss: 0.6994 - val_accuracy: 0.8531\n",
      "Epoch 78/100\n",
      "279/279 [==============================] - 345s 1s/step - loss: 0.1076 - accuracy: 0.9608 - val_loss: 0.7130 - val_accuracy: 0.8468\n",
      "Epoch 79/100\n",
      "279/279 [==============================] - 357s 1s/step - loss: 0.1269 - accuracy: 0.9572 - val_loss: 0.7880 - val_accuracy: 0.8504\n",
      "Epoch 80/100\n",
      "279/279 [==============================] - 345s 1s/step - loss: 0.1211 - accuracy: 0.9564 - val_loss: 0.7991 - val_accuracy: 0.8468\n",
      "Epoch 81/100\n",
      "279/279 [==============================] - 345s 1s/step - loss: 0.1160 - accuracy: 0.9566 - val_loss: 0.7058 - val_accuracy: 0.8577\n",
      "Epoch 82/100\n",
      "279/279 [==============================] - 349s 1s/step - loss: 0.1177 - accuracy: 0.9598 - val_loss: 0.8128 - val_accuracy: 0.8486\n",
      "Epoch 83/100\n",
      "279/279 [==============================] - 351s 1s/step - loss: 0.1052 - accuracy: 0.9626 - val_loss: 0.7916 - val_accuracy: 0.8622\n",
      "Epoch 84/100\n",
      "279/279 [==============================] - 350s 1s/step - loss: 0.1235 - accuracy: 0.9596 - val_loss: 0.7677 - val_accuracy: 0.8450\n",
      "Epoch 85/100\n",
      "279/279 [==============================] - 357s 1s/step - loss: 0.1156 - accuracy: 0.9608 - val_loss: 0.8170 - val_accuracy: 0.8522\n",
      "Epoch 86/100\n",
      "279/279 [==============================] - 360s 1s/step - loss: 0.1184 - accuracy: 0.9610 - val_loss: 0.7525 - val_accuracy: 0.8568\n",
      "Epoch 87/100\n",
      "279/279 [==============================] - 359s 1s/step - loss: 0.1263 - accuracy: 0.9590 - val_loss: 0.8192 - val_accuracy: 0.8504\n",
      "Epoch 88/100\n",
      "279/279 [==============================] - 359s 1s/step - loss: 0.1033 - accuracy: 0.9678 - val_loss: 0.7737 - val_accuracy: 0.8586\n",
      "Epoch 89/100\n",
      "279/279 [==============================] - 358s 1s/step - loss: 0.0950 - accuracy: 0.9657 - val_loss: 0.8118 - val_accuracy: 0.8540\n",
      "Epoch 90/100\n",
      "279/279 [==============================] - 368s 1s/step - loss: 0.0967 - accuracy: 0.9675 - val_loss: 0.8019 - val_accuracy: 0.8468\n",
      "Epoch 91/100\n",
      "279/279 [==============================] - 368s 1s/step - loss: 0.1212 - accuracy: 0.9615 - val_loss: 0.8268 - val_accuracy: 0.8540\n",
      "Epoch 92/100\n",
      "279/279 [==============================] - 323s 1s/step - loss: 0.1227 - accuracy: 0.9570 - val_loss: 0.8286 - val_accuracy: 0.8540\n",
      "Epoch 93/100\n",
      "279/279 [==============================] - 232s 832ms/step - loss: 0.0853 - accuracy: 0.9719 - val_loss: 0.8671 - val_accuracy: 0.8477\n",
      "Epoch 94/100\n",
      "279/279 [==============================] - 224s 804ms/step - loss: 0.1138 - accuracy: 0.9604 - val_loss: 0.8666 - val_accuracy: 0.8450\n",
      "Epoch 95/100\n",
      "279/279 [==============================] - 217s 777ms/step - loss: 0.0872 - accuracy: 0.9697 - val_loss: 0.8149 - val_accuracy: 0.8586\n",
      "Epoch 96/100\n",
      "279/279 [==============================] - 207s 742ms/step - loss: 0.1114 - accuracy: 0.9636 - val_loss: 0.9003 - val_accuracy: 0.8413\n",
      "Epoch 97/100\n",
      "279/279 [==============================] - 217s 779ms/step - loss: 0.0820 - accuracy: 0.9711 - val_loss: 0.8798 - val_accuracy: 0.8622\n",
      "Epoch 98/100\n",
      "279/279 [==============================] - 208s 747ms/step - loss: 0.0934 - accuracy: 0.9706 - val_loss: 0.8919 - val_accuracy: 0.8549\n",
      "Epoch 99/100\n",
      "279/279 [==============================] - 221s 792ms/step - loss: 0.0937 - accuracy: 0.9686 - val_loss: 0.9153 - val_accuracy: 0.8558\n",
      "Epoch 100/100\n",
      "279/279 [==============================] - 214s 767ms/step - loss: 0.0782 - accuracy: 0.9727 - val_loss: 0.9091 - val_accuracy: 0.8540\n"
     ]
    }
   ],
   "source": [
    "history =cnn.fit(x = training_set, validation_data = test_set, epochs = 100)"
   ]
  },
  {
   "cell_type": "code",
   "execution_count": 62,
   "id": "eb249e13",
   "metadata": {},
   "outputs": [],
   "source": [
    "def plot_accuracy_loss(history):\n",
    "    \"\"\"\n",
    "        Plot the accuracy and the loss during the training of the nn.\n",
    "    \"\"\"\n",
    "    fig = plt.figure(figsize=(10,5))\n",
    "\n",
    "    # Plot accuracy\n",
    "    plt.subplot(221)\n",
    "    plt.plot(history.history['accuracy'],'bo--', label = \"accuracy\")\n",
    "    plt.plot(history.history['val_accuracy'], 'ro--', label = \"val_accuracy\")\n",
    "    plt.title(\"train_acc vs val_acc\")\n",
    "    plt.ylabel(\"accuracy\")\n",
    "    plt.xlabel(\"epochs\")\n",
    "    plt.legend()\n",
    "\n",
    "    # Plot loss function\n",
    "    plt.subplot(222)\n",
    "    plt.plot(history.history['loss'],'bo--', label = \"loss\")\n",
    "    plt.plot(history.history['val_loss'], 'ro--', label = \"val_loss\")\n",
    "    plt.title(\"train_loss vs val_loss\")\n",
    "    plt.ylabel(\"loss\")\n",
    "    plt.xlabel(\"epochs\")\n",
    "\n",
    "    plt.legend()\n",
    "    plt.show()"
   ]
  },
  {
   "cell_type": "code",
   "execution_count": 63,
   "id": "c375ca12",
   "metadata": {},
   "outputs": [
    {
     "data": {
      "image/png": "[encoded data removed]",
      "text/plain": [
       "<Figure size 720x360 with 2 Axes>"
      ]
     },
     "metadata": {
      "needs_background": "light"
     },
     "output_type": "display_data"
    }
   ],
   "source": [
    "plot_accuracy_loss(history)"
   ]
  },
  {
   "cell_type": "code",
   "execution_count": 43,
   "id": "678116b4",
   "metadata": {},
   "outputs": [
    {
     "data": {
      "image/png": "[encoded data removed]",
      "text/plain": [
       "<Figure size 576x576 with 2 Axes>"
      ]
     },
     "metadata": {
      "needs_background": "light"
     },
     "output_type": "display_data"
    }
   ],
   "source": [
    "acc = history.history['accuracy']\n",
    "val_acc = history.history['val_accuracy']\n",
    "\n",
    "loss = history.history['loss']\n",
    "val_loss = history.history['val_loss']\n",
    "\n",
    "plt.figure(figsize=(8, 8))\n",
    "plt.subplot(2, 1, 1)\n",
    "plt.plot(acc, label='Training Accuracy')\n",
    "plt.plot(val_acc, label='Validation Accuracy')\n",
    "plt.legend(loc='lower right')\n",
    "plt.ylabel('Accuracy')\n",
    "plt.ylim([-1,1])\n",
    "plt.title('Training and Validation Accuracy')\n",
    "\n",
    "plt.subplot(2, 1, 2)\n",
    "plt.plot(loss, label='Training Loss')\n",
    "plt.plot(val_loss, label='Validation Loss')\n",
    "plt.legend(loc='upper right')\n",
    "plt.ylabel('Cross Entropy')\n",
    "plt.ylim([-1,1.0])\n",
    "plt.title('Training and Validation Loss')\n",
    "plt.xlabel('epoch')\n",
    "plt.show()"
   ]
  }
 ],
 "metadata": {
  "kernelspec": {
   "display_name": "Python 3 (ipykernel)",
   "language": "python",
   "name": "python3"
  },
  "language_info": {
   "codemirror_mode": {
    "name": "ipython",
    "version": 3
   },
   "file_extension": ".py",
   "mimetype": "text/x-python",
   "name": "python",
   "nbconvert_exporter": "python",
   "pygments_lexer": "ipython3",
   "version": "3.9.7"
  }
 },
 "nbformat": 4,
 "nbformat_minor": 5
}
